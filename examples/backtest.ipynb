{
 "cells": [
  {
   "cell_type": "code",
   "execution_count": null,
   "metadata": {},
   "outputs": [],
   "source": [
    "from simple_backtester import Backtester\n",
    "from pathlib import Path\n",
    "\n",
    "import numpy as np"
   ]
  },
  {
   "cell_type": "markdown",
   "metadata": {},
   "source": [
    "# Sample strategy"
   ]
  },
  {
   "cell_type": "code",
   "execution_count": null,
   "metadata": {},
   "outputs": [],
   "source": [
    "# Load the YAML configuration and the new strategy\n",
    "strategy_module_path = \"../tests/test_data/strategy/strat1.py\"\n",
    "config_path = \"../tests/test_data/strategy/strat1.yaml\"\n",
    "# config = yaml.safe_load(Path(config_path).read_text())\n",
    "\n",
    "# Dynamically load the strategy class\n",
    "backtest = Backtester(strategy_module_path, config_path)\n",
    "source = \"local\"\n",
    "path = f\"../tests/test_data/data/{source}/feature/\"\n",
    "config = {\n",
    "    \"source\": source,\n",
    "    \"data_path\": path,\n",
    "    # \"tech_indicators\": [\"ma\", \"macd\", \"rsi\"],\n",
    "    \"features\": [file.name[:-4] for file in Path(path).iterdir() if file.is_file()],\n",
    "}\n",
    "backtest.run(config)\n",
    "\n",
    "# Get and display results\n",
    "results = backtest.get_results()\n",
    "print(\"Cumulative PnL:\", results[\"cumulative_pnl\"])\n",
    "print(\"Sharpe Ratio:\", results[\"Sharpe Ratio\"])\n",
    "print(\"Volatility:\", results[\"Volatility\"])\n",
    "print(\"Max Drawdown:\", results[\"Max Drawdown\"])\n",
    "print(\"PnL History:\", results[\"pnl_history\"][:10])\n",
    "\n",
    "# Plot the PnL\n",
    "backtest.plot_pnl()"
   ]
  },
  {
   "cell_type": "code",
   "execution_count": null,
   "metadata": {},
   "outputs": [],
   "source": [
    "# Load the YAML configuration and the new strategy\n",
    "strategy_module_path = \"../tests/test_data/strategy/strat2.py\"\n",
    "config_path = \"../tests/test_data/strategy/strat2.yaml\"\n",
    "# config = yaml.safe_load(Path(config_path).read_text())\n",
    "\n",
    "# Dynamically load the strategy class\n",
    "backtest = Backtester(strategy_module_path, config_path)\n",
    "source = \"ccxt\"\n",
    "path = f\"../tests/test_data/data/{source}/feature/\"\n",
    "config = {\n",
    "    \"source\": source,\n",
    "    \"data_path\": path,\n",
    "    # \"tech_indicators\": [\"ma\", \"macd\", \"rsi\"],\n",
    "    \"features\": [file.name[:-4] for file in Path(path).iterdir() if file.is_file()],\n",
    "}\n",
    "backtest.run(config)\n",
    "\n",
    "# Get and display results\n",
    "results = backtest.get_results()\n",
    "\n",
    "backtest.plot_pnl()\n"
   ]
  },
  {
   "cell_type": "markdown",
   "metadata": {},
   "source": [
    "# ML strategy"
   ]
  },
  {
   "cell_type": "markdown",
   "metadata": {},
   "source": [
    "## Long-Short Ridge"
   ]
  },
  {
   "cell_type": "code",
   "execution_count": null,
   "metadata": {},
   "outputs": [],
   "source": [
    "# Load the YAML configuration and the new strategy\n",
    "strategy_module_path = \"../tests/test_data/strategy/strat_LS_ridge.py\"\n",
    "config_path = \"../tests/test_data/strategy/strat_LS_ridge.yaml\"\n",
    "# config = yaml.safe_load(Path(config_path).read_text())\n",
    "\n",
    "# Dynamically load the strategy class\n",
    "backtest = Backtester(strategy_module_path, config_path)\n",
    "source = \"local\"\n",
    "path = f\"../tests/test_data/data/{source}/feature/\"\n",
    "config = {\n",
    "    \"source\": source,\n",
    "    \"data_path\": path,\n",
    "    # \"tech_indicators\": [\"ma\", \"macd\", \"rsi\"],\n",
    "    \"features\": [file.name[:-4] for file in Path(path).iterdir() if file.is_file()],\n",
    "}\n",
    "backtest.run(config)\n",
    "\n",
    "# Get and display results\n",
    "results = backtest.get_results()\n",
    "print(\"Cumulative PnL:\", results[\"cumulative_pnl\"])\n",
    "print(\"Sharpe Ratio:\", results[\"Sharpe Ratio\"])\n",
    "print(\"Volatility:\", results[\"Volatility\"])\n",
    "print(\"Max Drawdown:\", results[\"Max Drawdown\"])\n",
    "print(\"PnL History:\", results[\"pnl_history\"][:10])\n",
    "\n",
    "# Plot the PnL\n",
    "backtest.plot_pnl()"
   ]
  },
  {
   "cell_type": "markdown",
   "metadata": {},
   "source": [
    "## CTA LightGBM"
   ]
  },
  {
   "cell_type": "code",
   "execution_count": null,
   "metadata": {},
   "outputs": [],
   "source": [
    "# Load the YAML configuration and the new strategy\n",
    "strategy_module_path = \"../tests/test_data/strategy/strat_CTA_lightgbm.py\"\n",
    "config_path = \"../tests/test_data/strategy/strat_CTA_lightgbm.yaml\"\n",
    "# config = yaml.safe_load(Path(config_path).read_text())\n",
    "\n",
    "# Dynamically load the strategy class\n",
    "backtest = Backtester(strategy_module_path, config_path)\n",
    "source = \"local\"\n",
    "path = f\"../tests/test_data/data/{source}/feature/\"\n",
    "config = {\n",
    "    \"source\": source,\n",
    "    \"data_path\": path,\n",
    "    # \"tech_indicators\": [\"ma\", \"macd\", \"rsi\"],\n",
    "    \"features\": [file.name[:-4] for file in Path(path).iterdir() if file.is_file()],\n",
    "}\n",
    "backtest.run(config)\n",
    "\n",
    "# Get and display results\n",
    "results = backtest.get_results()\n",
    "print(\"Cumulative PnL:\", results[\"cumulative_pnl\"])\n",
    "print(\"Sharpe Ratio:\", results[\"Sharpe Ratio\"])\n",
    "print(\"Volatility:\", results[\"Volatility\"])\n",
    "print(\"Max Drawdown:\", results[\"Max Drawdown\"])\n",
    "print(\"PnL History:\", results[\"pnl_history\"][:10])\n",
    "\n",
    "# Plot the PnL\n",
    "backtest.plot_pnl()"
   ]
  },
  {
   "cell_type": "markdown",
   "metadata": {},
   "source": [
    "## CTA MLP"
   ]
  },
  {
   "cell_type": "code",
   "execution_count": null,
   "metadata": {},
   "outputs": [],
   "source": [
    "# Load the YAML configuration and the new strategy\n",
    "strategy_module_path = \"../tests/test_data/strategy/strat_CTA_mlp.py\"\n",
    "config_path = \"../tests/test_data/strategy/strat_CTA_mlp.yaml\"\n",
    "# config = yaml.safe_load(Path(config_path).read_text())\n",
    "\n",
    "# Dynamically load the strategy class\n",
    "backtest = Backtester(strategy_module_path, config_path)\n",
    "source = \"local\"\n",
    "path = f\"../tests/test_data/data/{source}/feature/\"\n",
    "config = {\n",
    "    \"source\": source,\n",
    "    \"data_path\": path,\n",
    "    # \"tech_indicators\": [\"ma\", \"macd\", \"rsi\"],\n",
    "    \"features\": [file.name[:-4] for file in Path(path).iterdir() if file.is_file()],\n",
    "}\n",
    "backtest.run(config)\n",
    "\n",
    "# Get and display results\n",
    "results = backtest.get_results()\n",
    "print(\"Cumulative PnL:\", results[\"cumulative_pnl\"])\n",
    "print(\"Sharpe Ratio:\", results[\"Sharpe Ratio\"])\n",
    "print(\"Volatility:\", results[\"Volatility\"])\n",
    "print(\"Max Drawdown:\", results[\"Max Drawdown\"])\n",
    "print(\"PnL History:\", results[\"pnl_history\"][:10])\n",
    "\n",
    "# Plot the PnL\n",
    "backtest.plot_pnl()"
   ]
  }
 ],
 "metadata": {
  "kernelspec": {
   "display_name": "APC524 ENV",
   "language": "python",
   "name": "env"
  },
  "language_info": {
   "codemirror_mode": {
    "name": "ipython",
    "version": 3
   },
   "file_extension": ".py",
   "mimetype": "text/x-python",
   "name": "python",
   "nbconvert_exporter": "python",
   "pygments_lexer": "ipython3",
   "version": "3.10.12"
  },
  "vscode": {
   "interpreter": {
    "hash": "3d894767a748ae32987cbebeaec93efb51fe7a630f5d0166a60f00b04d640165"
   }
  }
 },
 "nbformat": 4,
 "nbformat_minor": 2
}
