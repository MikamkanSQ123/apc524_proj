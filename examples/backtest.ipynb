{
 "cells": [
  {
   "cell_type": "code",
   "execution_count": null,
   "metadata": {},
   "outputs": [],
   "source": [
    "from simple_backtester import Backtester\n",
    "from pathlib import Path\n",
    "\n",
    "import numpy as np"
   ]
  },
  {
   "cell_type": "code",
   "execution_count": null,
   "metadata": {},
   "outputs": [],
   "source": [
    "# Load the YAML configuration and the new strategy\n",
    "strategy_module_path = \"../tests/test_data/strategy/strat1.py\"\n",
    "config_path = \"../tests/test_data/strategy/strat1.yaml\"\n",
    "# config = yaml.safe_load(Path(config_path).read_text())\n",
    "\n",
    "# Dynamically load the strategy class\n",
    "backtest = Backtester(strategy_module_path, config_path)\n",
    "source = \"local\"\n",
    "path = f\"../tests/test_data/data/{source}/feature/\"\n",
    "config = {\n",
    "    \"source\": source,\n",
    "    \"data_path\": path,\n",
    "    # \"tech_indicators\": [\"ma\", \"macd\", \"rsi\"],\n",
    "    \"features\": [file.name[:-4] for file in Path(path).iterdir() if file.is_file()],\n",
    "}\n",
    "backtest.run(config)\n",
    "\n",
    "# Get and display results\n",
    "results = backtest.get_results()\n",
    "print(\"Cumulative PnL:\", results[\"cumulative_pnl\"])\n",
    "print(\"Sharpe Ratio:\", results[\"Sharpe Ratio\"])\n",
    "print(\"Volatility:\", results[\"Volatility\"])\n",
    "print(\"Max Drawdown:\", results[\"Max Drawdown\"])\n",
    "print(\"PnL History:\", results[\"pnl_history\"][:10])\n",
    "\n",
    "# Plot the PnL\n",
    "backtest.plot_pnl()"
   ]
  },
  {
   "cell_type": "code",
   "execution_count": null,
   "metadata": {},
   "outputs": [],
   "source": [
    "# Load the YAML configuration and the new strategy\n",
    "strategy_module_path = \"../tests/test_data/strategy/strat2.py\"\n",
    "config_path = \"../tests/test_data/strategy/strat2.yaml\"\n",
    "# config = yaml.safe_load(Path(config_path).read_text())\n",
    "\n",
    "# Dynamically load the strategy class\n",
    "backtest = Backtester(strategy_module_path, config_path)\n",
    "source = \"ccxt\"\n",
    "path = f\"../tests/test_data/data/{source}/feature/\"\n",
    "config = {\n",
    "    \"source\": source,\n",
    "    \"data_path\": path,\n",
    "    # \"tech_indicators\": [\"ma\", \"macd\", \"rsi\"],\n",
    "    \"features\": [file.name[:-4] for file in Path(path).iterdir() if file.is_file()],\n",
    "}\n",
    "backtest.run(config)\n",
    "\n",
    "# Get and display results\n",
    "results = backtest.get_results()\n",
    "\n",
    "backtest.plot_pnl()\n"
   ]
  }
 ],
 "metadata": {
  "kernelspec": {
   "display_name": "research",
   "language": "python",
   "name": "python3"
  },
  "language_info": {
   "codemirror_mode": {
    "name": "ipython",
    "version": 3
   },
   "file_extension": ".py",
   "mimetype": "text/x-python",
   "name": "python",
   "nbconvert_exporter": "python",
   "pygments_lexer": "ipython3",
   "version": "3.12.4"
  }
 },
 "nbformat": 4,
 "nbformat_minor": 2
}
